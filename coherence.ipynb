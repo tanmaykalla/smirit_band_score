{
 "cells": [
  {
   "cell_type": "code",
   "execution_count": 15,
   "metadata": {},
   "outputs": [],
   "source": [
    "essay=\"\"\"In recent years, the question of whether animals should be kept in zoos has become increasingly controversial. In my opinion, there is nothing cruel about animals being kept in captivity. In fact, there are a number of advantages which I will outline below.\n",
    "\n",
    "First of all, I would argue that most animals are well looked-after because there are strict regulations in place relating to animal welfare. Zoos are regularly inspected and the animals are cared for by experts and given food, shelter and medicine if they fall ill, so there is little evidence to suggest that animals are suffering.\n",
    "\n",
    "A second reason in favour of zoos is that many animals are being hunted to extinction in the wild and others are dying out due to loss of habitat. Successful breeding and conservation programmes can ensure the survival of endangered animals such as pandas and polar bears so that they are protected for generations to come.\n",
    "\n",
    "Finally, there are educational reasons for keeping animals in zoos. Children are able to see animals from all over the world up close and this helps encourage an interest in wildlife and a desire to protect animals in the future.\n",
    "\n",
    "In conclusion, I believe that keeping animals in zoos is no more cruel than keeping them at home. The only important thing is to care for them properly.\"\"\""
   ]
  },
  {
   "cell_type": "code",
   "execution_count": 18,
   "metadata": {},
   "outputs": [
    {
     "name": "stdout",
     "output_type": "stream",
     "text": [
      "Paragraph count: 5\n",
      "Paragraph lengths: [43, 56, 56, 40, 28]\n",
      "Paragraph proportions: [0.19282511210762332, 0.25112107623318386, 0.25112107623318386, 0.17937219730941703, 0.12556053811659193]\n",
      "223\n"
     ]
    }
   ],
   "source": [
    "def count_paragraphs_and_length(text):\n",
    "    paragraphs = text.split('\\n')  # splits the text into paragraphs at newline characters\n",
    "    paragraphs = [p for p in paragraphs if p]  # removes empty paragraphs\n",
    "    paragraph_count = len(paragraphs)  # counts the number of paragraphs\n",
    "    paragraph_lengths = [len(p.split()) for p in paragraphs]  # counts the number of words in each paragraph\n",
    "    \n",
    "    total_words = sum(paragraph_lengths)  # total number of words in the essay\n",
    "    paragraph_proportions = [len(p.split()) / total_words for p in paragraphs]  # proportion of words in each paragraph to total words\n",
    "    \n",
    "    return paragraph_count, paragraph_lengths, paragraph_proportions,total_words\n",
    "\n",
    "\n",
    "paragraph_count, paragraph_lengths, paragraph_proportions,total_words = count_paragraphs_and_length(essay)\n",
    "print('Paragraph count:', paragraph_count)\n",
    "print('Paragraph lengths:', paragraph_lengths)\n",
    "print('Paragraph proportions:', paragraph_proportions)\n",
    "print(total_words)\n"
   ]
  },
  {
   "cell_type": "code",
   "execution_count": 5,
   "metadata": {},
   "outputs": [
    {
     "name": "stdout",
     "output_type": "stream",
     "text": [
      "Requirement already satisfied: spacy in c:\\users\\tanma\\anaconda3\\lib\\site-packages (3.5.3)\n",
      "Requirement already satisfied: cymem<2.1.0,>=2.0.2 in c:\\users\\tanma\\anaconda3\\lib\\site-packages (from spacy) (2.0.7)\n",
      "Requirement already satisfied: packaging>=20.0 in c:\\users\\tanma\\anaconda3\\lib\\site-packages (from spacy) (21.3)\n",
      "Requirement already satisfied: thinc<8.2.0,>=8.1.8 in c:\\users\\tanma\\anaconda3\\lib\\site-packages (from spacy) (8.1.10)\n",
      "Requirement already satisfied: tqdm<5.0.0,>=4.38.0 in c:\\users\\tanma\\anaconda3\\lib\\site-packages (from spacy) (4.64.0)\n",
      "Requirement already satisfied: requests<3.0.0,>=2.13.0 in c:\\users\\tanma\\anaconda3\\lib\\site-packages (from spacy) (2.27.1)\n",
      "Requirement already satisfied: smart-open<7.0.0,>=5.2.1 in c:\\users\\tanma\\anaconda3\\lib\\site-packages (from spacy) (6.3.0)\n",
      "Requirement already satisfied: jinja2 in c:\\users\\tanma\\anaconda3\\lib\\site-packages (from spacy) (2.11.3)\n",
      "Requirement already satisfied: setuptools in c:\\users\\tanma\\anaconda3\\lib\\site-packages (from spacy) (61.2.0)\n",
      "Requirement already satisfied: numpy>=1.15.0 in c:\\users\\tanma\\anaconda3\\lib\\site-packages (from spacy) (1.22.4)\n",
      "Requirement already satisfied: spacy-legacy<3.1.0,>=3.0.11 in c:\\users\\tanma\\anaconda3\\lib\\site-packages (from spacy) (3.0.12)\n",
      "Requirement already satisfied: pathy>=0.10.0 in c:\\users\\tanma\\anaconda3\\lib\\site-packages (from spacy) (0.10.1)\n",
      "Requirement already satisfied: wasabi<1.2.0,>=0.9.1 in c:\\users\\tanma\\anaconda3\\lib\\site-packages (from spacy) (1.1.1)\n",
      "Requirement already satisfied: preshed<3.1.0,>=3.0.2 in c:\\users\\tanma\\anaconda3\\lib\\site-packages (from spacy) (3.0.8)\n",
      "Requirement already satisfied: langcodes<4.0.0,>=3.2.0 in c:\\users\\tanma\\anaconda3\\lib\\site-packages (from spacy) (3.3.0)\n",
      "Requirement already satisfied: typer<0.8.0,>=0.3.0 in c:\\users\\tanma\\anaconda3\\lib\\site-packages (from spacy) (0.7.0)\n",
      "Requirement already satisfied: pydantic!=1.8,!=1.8.1,<1.11.0,>=1.7.4 in c:\\users\\tanma\\anaconda3\\lib\\site-packages (from spacy) (1.10.7)\n",
      "Requirement already satisfied: murmurhash<1.1.0,>=0.28.0 in c:\\users\\tanma\\anaconda3\\lib\\site-packages (from spacy) (1.0.9)\n",
      "Requirement already satisfied: catalogue<2.1.0,>=2.0.6 in c:\\users\\tanma\\anaconda3\\lib\\site-packages (from spacy) (2.0.8)\n",
      "Requirement already satisfied: srsly<3.0.0,>=2.4.3 in c:\\users\\tanma\\anaconda3\\lib\\site-packages (from spacy) (2.4.6)\n",
      "Requirement already satisfied: spacy-loggers<2.0.0,>=1.0.0 in c:\\users\\tanma\\anaconda3\\lib\\site-packages (from spacy) (1.0.4)\n",
      "Requirement already satisfied: pyparsing!=3.0.5,>=2.0.2 in c:\\users\\tanma\\anaconda3\\lib\\site-packages (from packaging>=20.0->spacy) (3.0.4)\n",
      "Requirement already satisfied: typing-extensions>=4.2.0 in c:\\users\\tanma\\anaconda3\\lib\\site-packages (from pydantic!=1.8,!=1.8.1,<1.11.0,>=1.7.4->spacy) (4.5.0)\n",
      "Requirement already satisfied: charset-normalizer~=2.0.0 in c:\\users\\tanma\\anaconda3\\lib\\site-packages (from requests<3.0.0,>=2.13.0->spacy) (2.0.4)\n",
      "Requirement already satisfied: certifi>=2017.4.17 in c:\\users\\tanma\\anaconda3\\lib\\site-packages (from requests<3.0.0,>=2.13.0->spacy) (2022.12.7)\n",
      "Requirement already satisfied: idna<4,>=2.5 in c:\\users\\tanma\\anaconda3\\lib\\site-packages (from requests<3.0.0,>=2.13.0->spacy) (3.3)\n",
      "Requirement already satisfied: urllib3<1.27,>=1.21.1 in c:\\users\\tanma\\anaconda3\\lib\\site-packages (from requests<3.0.0,>=2.13.0->spacy) (1.26.9)\n",
      "Requirement already satisfied: confection<1.0.0,>=0.0.1 in c:\\users\\tanma\\anaconda3\\lib\\site-packages (from thinc<8.2.0,>=8.1.8->spacy) (0.0.4)\n",
      "Requirement already satisfied: blis<0.8.0,>=0.7.8 in c:\\users\\tanma\\anaconda3\\lib\\site-packages (from thinc<8.2.0,>=8.1.8->spacy) (0.7.9)\n",
      "Requirement already satisfied: colorama in c:\\users\\tanma\\anaconda3\\lib\\site-packages (from tqdm<5.0.0,>=4.38.0->spacy) (0.4.6)\n",
      "Requirement already satisfied: click<9.0.0,>=7.1.1 in c:\\users\\tanma\\anaconda3\\lib\\site-packages (from typer<0.8.0,>=0.3.0->spacy) (8.0.4)\n",
      "Requirement already satisfied: MarkupSafe>=0.23 in c:\\users\\tanma\\anaconda3\\lib\\site-packages (from jinja2->spacy) (2.0.1)\n",
      "Note: you may need to restart the kernel to use updated packages.\n"
     ]
    }
   ],
   "source": [
    "pip install -U spacy"
   ]
  },
  {
   "cell_type": "code",
   "execution_count": 6,
   "metadata": {},
   "outputs": [
    {
     "name": "stdout",
     "output_type": "stream",
     "text": [
      "Collecting en-core-web-sm==3.5.0\n",
      "  Downloading https://github.com/explosion/spacy-models/releases/download/en_core_web_sm-3.5.0/en_core_web_sm-3.5.0-py3-none-any.whl (12.8 MB)\n",
      "Requirement already satisfied: spacy<3.6.0,>=3.5.0 in c:\\users\\tanma\\anaconda3\\lib\\site-packages (from en-core-web-sm==3.5.0) (3.5.3)\n",
      "Requirement already satisfied: tqdm<5.0.0,>=4.38.0 in c:\\users\\tanma\\anaconda3\\lib\\site-packages (from spacy<3.6.0,>=3.5.0->en-core-web-sm==3.5.0) (4.64.0)\n",
      "Requirement already satisfied: pathy>=0.10.0 in c:\\users\\tanma\\anaconda3\\lib\\site-packages (from spacy<3.6.0,>=3.5.0->en-core-web-sm==3.5.0) (0.10.1)\n",
      "Requirement already satisfied: thinc<8.2.0,>=8.1.8 in c:\\users\\tanma\\anaconda3\\lib\\site-packages (from spacy<3.6.0,>=3.5.0->en-core-web-sm==3.5.0) (8.1.10)\n",
      "Requirement already satisfied: cymem<2.1.0,>=2.0.2 in c:\\users\\tanma\\anaconda3\\lib\\site-packages (from spacy<3.6.0,>=3.5.0->en-core-web-sm==3.5.0) (2.0.7)\n",
      "Requirement already satisfied: spacy-legacy<3.1.0,>=3.0.11 in c:\\users\\tanma\\anaconda3\\lib\\site-packages (from spacy<3.6.0,>=3.5.0->en-core-web-sm==3.5.0) (3.0.12)\n",
      "Requirement already satisfied: spacy-loggers<2.0.0,>=1.0.0 in c:\\users\\tanma\\anaconda3\\lib\\site-packages (from spacy<3.6.0,>=3.5.0->en-core-web-sm==3.5.0) (1.0.4)\n",
      "Requirement already satisfied: packaging>=20.0 in c:\\users\\tanma\\anaconda3\\lib\\site-packages (from spacy<3.6.0,>=3.5.0->en-core-web-sm==3.5.0) (21.3)\n",
      "Requirement already satisfied: requests<3.0.0,>=2.13.0 in c:\\users\\tanma\\anaconda3\\lib\\site-packages (from spacy<3.6.0,>=3.5.0->en-core-web-sm==3.5.0) (2.27.1)\n",
      "Requirement already satisfied: murmurhash<1.1.0,>=0.28.0 in c:\\users\\tanma\\anaconda3\\lib\\site-packages (from spacy<3.6.0,>=3.5.0->en-core-web-sm==3.5.0) (1.0.9)\n",
      "Requirement already satisfied: langcodes<4.0.0,>=3.2.0 in c:\\users\\tanma\\anaconda3\\lib\\site-packages (from spacy<3.6.0,>=3.5.0->en-core-web-sm==3.5.0) (3.3.0)\n",
      "Requirement already satisfied: jinja2 in c:\\users\\tanma\\anaconda3\\lib\\site-packages (from spacy<3.6.0,>=3.5.0->en-core-web-sm==3.5.0) (2.11.3)\n",
      "Requirement already satisfied: pydantic!=1.8,!=1.8.1,<1.11.0,>=1.7.4 in c:\\users\\tanma\\anaconda3\\lib\\site-packages (from spacy<3.6.0,>=3.5.0->en-core-web-sm==3.5.0) (1.10.7)\n",
      "Requirement already satisfied: typer<0.8.0,>=0.3.0 in c:\\users\\tanma\\anaconda3\\lib\\site-packages (from spacy<3.6.0,>=3.5.0->en-core-web-sm==3.5.0) (0.7.0)\n",
      "Requirement already satisfied: wasabi<1.2.0,>=0.9.1 in c:\\users\\tanma\\anaconda3\\lib\\site-packages (from spacy<3.6.0,>=3.5.0->en-core-web-sm==3.5.0) (1.1.1)\n",
      "Requirement already satisfied: srsly<3.0.0,>=2.4.3 in c:\\users\\tanma\\anaconda3\\lib\\site-packages (from spacy<3.6.0,>=3.5.0->en-core-web-sm==3.5.0) (2.4.6)\n",
      "Requirement already satisfied: preshed<3.1.0,>=3.0.2 in c:\\users\\tanma\\anaconda3\\lib\\site-packages (from spacy<3.6.0,>=3.5.0->en-core-web-sm==3.5.0) (3.0.8)\n",
      "Requirement already satisfied: catalogue<2.1.0,>=2.0.6 in c:\\users\\tanma\\anaconda3\\lib\\site-packages (from spacy<3.6.0,>=3.5.0->en-core-web-sm==3.5.0) (2.0.8)\n",
      "Requirement already satisfied: smart-open<7.0.0,>=5.2.1 in c:\\users\\tanma\\anaconda3\\lib\\site-packages (from spacy<3.6.0,>=3.5.0->en-core-web-sm==3.5.0) (6.3.0)\n",
      "Requirement already satisfied: setuptools in c:\\users\\tanma\\anaconda3\\lib\\site-packages (from spacy<3.6.0,>=3.5.0->en-core-web-sm==3.5.0) (61.2.0)\n",
      "Requirement already satisfied: numpy>=1.15.0 in c:\\users\\tanma\\anaconda3\\lib\\site-packages (from spacy<3.6.0,>=3.5.0->en-core-web-sm==3.5.0) (1.22.4)\n",
      "Requirement already satisfied: pyparsing!=3.0.5,>=2.0.2 in c:\\users\\tanma\\anaconda3\\lib\\site-packages (from packaging>=20.0->spacy<3.6.0,>=3.5.0->en-core-web-sm==3.5.0) (3.0.4)\n",
      "Requirement already satisfied: typing-extensions>=4.2.0 in c:\\users\\tanma\\anaconda3\\lib\\site-packages (from pydantic!=1.8,!=1.8.1,<1.11.0,>=1.7.4->spacy<3.6.0,>=3.5.0->en-core-web-sm==3.5.0) (4.5.0)\n",
      "Requirement already satisfied: certifi>=2017.4.17 in c:\\users\\tanma\\anaconda3\\lib\\site-packages (from requests<3.0.0,>=2.13.0->spacy<3.6.0,>=3.5.0->en-core-web-sm==3.5.0) (2022.12.7)\n",
      "Requirement already satisfied: charset-normalizer~=2.0.0 in c:\\users\\tanma\\anaconda3\\lib\\site-packages (from requests<3.0.0,>=2.13.0->spacy<3.6.0,>=3.5.0->en-core-web-sm==3.5.0) (2.0.4)\n",
      "Requirement already satisfied: idna<4,>=2.5 in c:\\users\\tanma\\anaconda3\\lib\\site-packages (from requests<3.0.0,>=2.13.0->spacy<3.6.0,>=3.5.0->en-core-web-sm==3.5.0) (3.3)\n",
      "Requirement already satisfied: urllib3<1.27,>=1.21.1 in c:\\users\\tanma\\anaconda3\\lib\\site-packages (from requests<3.0.0,>=2.13.0->spacy<3.6.0,>=3.5.0->en-core-web-sm==3.5.0) (1.26.9)\n",
      "Requirement already satisfied: blis<0.8.0,>=0.7.8 in c:\\users\\tanma\\anaconda3\\lib\\site-packages (from thinc<8.2.0,>=8.1.8->spacy<3.6.0,>=3.5.0->en-core-web-sm==3.5.0) (0.7.9)\n",
      "Requirement already satisfied: confection<1.0.0,>=0.0.1 in c:\\users\\tanma\\anaconda3\\lib\\site-packages (from thinc<8.2.0,>=8.1.8->spacy<3.6.0,>=3.5.0->en-core-web-sm==3.5.0) (0.0.4)\n",
      "Requirement already satisfied: colorama in c:\\users\\tanma\\anaconda3\\lib\\site-packages (from tqdm<5.0.0,>=4.38.0->spacy<3.6.0,>=3.5.0->en-core-web-sm==3.5.0) (0.4.6)\n",
      "Requirement already satisfied: click<9.0.0,>=7.1.1 in c:\\users\\tanma\\anaconda3\\lib\\site-packages (from typer<0.8.0,>=0.3.0->spacy<3.6.0,>=3.5.0->en-core-web-sm==3.5.0) (8.0.4)\n",
      "Requirement already satisfied: MarkupSafe>=0.23 in c:\\users\\tanma\\anaconda3\\lib\\site-packages (from jinja2->spacy<3.6.0,>=3.5.0->en-core-web-sm==3.5.0) (2.0.1)\n",
      "\u001b[38;5;2m✔ Download and installation successful\u001b[0m\n",
      "You can now load the package via spacy.load('en_core_web_sm')\n"
     ]
    }
   ],
   "source": [
    "!python -m spacy download en_core_web_sm\n"
   ]
  },
  {
   "cell_type": "code",
   "execution_count": 7,
   "metadata": {},
   "outputs": [],
   "source": [
    "sentence_joining_words = [\n",
    "    # Coordinating Conjunctions\n",
    "    \"and\", \"but\", \"yet\", \"so\", \"for\",\n",
    "\n",
    "    # Subordinating Conjunctions\n",
    "    \"also\", \"as\", \"because\", \"since\", \"if\", \"unless\", \"while\", \"as if\", \"as though\", \"like\", \"even though\", \"although\", \"whereas\", \"provided that\"\n",
    "]\n",
    "\n",
    "paragraph_joining_words = [\n",
    "    # Addition\n",
    "    \"also\", \"as well as\", \"besides\", \"furthermore\", \"in addition\", \"indeed\", \"let alone\", \"moreover\", \"not only\", \"too\",\n",
    "\n",
    "    # Comparison\n",
    "    \"likewise\", \"similarly\",\n",
    "\n",
    "    # Contrast\n",
    "    \"despite\", \"however\", \"in contrast\", \"in spite of\", \"instead of\", \"nevertheless\", \"on the contrary\", \"on the other hand\",\n",
    "\n",
    "    # Cause or Reason\n",
    "    \"due to\", \"therefore\",\n",
    "\n",
    "    # Condition\n",
    "    \"even if\", \"in case\",\n",
    "\n",
    "    # Consequence or Result\n",
    "    \"as a result\", \"consequently\", \"hence\", \"so\", \"therefore\", \"thus\",\n",
    "\n",
    "    # Time or Sequence\n",
    "    \"after\", \"as soon as\", \"before\", \"finally\", \"first\", \"meanwhile\", \"next\", \"once\", \"previously\", \"second\", \"then\", \"until\", \"when\",\n",
    "\n",
    "    # Example\n",
    "    \"for example\", \"for instance\", \"such as\", \"that is\",\n",
    "\n",
    "    # Emphasis\n",
    "    \"above all\", \"especially\", \"in fact\", \"particularly\", \"specifically\",\n",
    "\n",
    "    # Summary or Conclusion\n",
    "    \"after all\", \"all in all\", \"in conclusion\", \"in short\", \"in summary\", \"on the whole\", \"to sum up\"\n",
    "]\n",
    "\n",
    "transition_words= sentence_joining_words+paragraph_joining_words"
   ]
  },
  {
   "cell_type": "code",
   "execution_count": 19,
   "metadata": {},
   "outputs": [
    {
     "name": "stdout",
     "output_type": "stream",
     "text": [
      "[17, 6] 223\n"
     ]
    }
   ],
   "source": [
    "import spacy\n",
    "\n",
    "nlp = spacy.load('en_core_web_sm')  # Load English tokenizer, tagger, parser, NER and word vectors\n",
    "\n",
    "#transition_words = [\"however\", \"moreover\", \"therefore\", \"likewise\", \"furthermore\", \"consequently\", \"also\"]\n",
    "\n",
    "def count_transition_words_spacy(text):\n",
    "    doc = nlp(text.lower())\n",
    "    a = sum(token.text in sentence_joining_words for token in doc)\n",
    "    b = sum(token.text in paragraph_joining_words for token in doc)\n",
    "\n",
    "\n",
    "    return [a,b]\n",
    "\n",
    "# example usage\n",
    "text = \"This is an example text. However, it does not have much content. Moreover, it is quite short.\"\n",
    "print(count_transition_words_spacy(essay),total_words)\n"
   ]
  },
  {
   "cell_type": "code",
   "execution_count": 33,
   "metadata": {},
   "outputs": [],
   "source": [
    "#band1 coherence\n",
    "count_paragraphs_and_length(text)\n",
    "def coher1(text):\n",
    "    count_paragraphs_and_length(text)\n",
    "    if paragraph_count==4: return 7.5\n",
    "    elif paragraph_count <4 and paragraph_count>=2: return 6\n",
    "    elif paragraph_count >4 and paragraph_count<=6: return 6.5\n",
    "    elif paragraph_count >4 and paragraph_count<=6: return 6.5\n",
    "    elif paragraph_count >6 or paragraph_count<2: return 5   "
   ]
  },
  {
   "cell_type": "code",
   "execution_count": 34,
   "metadata": {},
   "outputs": [],
   "source": [
    "#band1 cohesion\n",
    "def cohes1(text):\n",
    "    count_paragraphs_and_length(text)\n",
    "    if min(paragraph_proportions)<0.15 and min(paragraph_proportions)>=0.1:  return 6.5\n",
    "    elif min(paragraph_proportions)>=0.15 and min(paragraph_proportions)<0.25 :return 7\n",
    "    else: return 6\n",
    " "
   ]
  },
  {
   "cell_type": "code",
   "execution_count": 32,
   "metadata": {},
   "outputs": [],
   "source": [
    "#band2 cohesion\n",
    "def cohes2(text):\n",
    "    if count_transition_words_spacy(text)[0]>0.1*total_words : return 6\n",
    "    elif count_transition_words_spacy(text)[0]>=0.05*total_words and count_transition_words_spacy(text)[0]<0.1*total_words :return 7\n",
    "    elif count_transition_words_spacy(text)[0]>=0.025*total_words and count_transition_words_spacy(text)[0]<0.05*total_words :return 6.5\n",
    "    else: return 5"
   ]
  },
  {
   "cell_type": "code",
   "execution_count": 31,
   "metadata": {},
   "outputs": [],
   "source": [
    "#band2 coherence\n",
    "\n",
    "def coher2(text):\n",
    "    if count_transition_words_spacy(text)[1]>=paragraph_count-1 and count_transition_words_spacy(text)[1]<paragraph_count+2 : return 7\n",
    "    elif count_transition_words_spacy(text)[1]>=paragraph_count+2 :return 6.5\n",
    "    elif count_transition_words_spacy(text)[1]<paragraph_count-1 and count_transition_words_spacy(text)[1]>=2 :return 6\n",
    "    else: return 5"
   ]
  },
  {
   "cell_type": "code",
   "execution_count": 36,
   "metadata": {},
   "outputs": [
    {
     "name": "stdout",
     "output_type": "stream",
     "text": [
      "7\n"
     ]
    }
   ],
   "source": [
    "band= (coher1(essay)+cohes1(essay)+cohes2(essay)+coher2(essay))/4\n",
    "print(round(band))"
   ]
  },
  {
   "cell_type": "code",
   "execution_count": 38,
   "metadata": {},
   "outputs": [
    {
     "data": {
      "text/plain": [
       "'import spacy\\n\\nnlp = spacy.load(\"en_core_web_sm\")\\n\\ndef get_topic_sentences(text):\\n    doc = nlp(text)\\n    topic_sentences = [sent.text for sent in doc.sents]\\n    return topic_sentences[0::2]  # assuming each paragraph is two sentences long\\n\\n\\n\\nprint(get_topic_sentences(essay))'"
      ]
     },
     "execution_count": 38,
     "metadata": {},
     "output_type": "execute_result"
    }
   ],
   "source": [
    "#ignore\n",
    "\"\"\"import spacy\n",
    "\n",
    "nlp = spacy.load(\"en_core_web_sm\")\n",
    "\n",
    "def get_topic_sentences(text):\n",
    "    doc = nlp(text)\n",
    "    topic_sentences = [sent.text for sent in doc.sents]\n",
    "    return topic_sentences[0::2]  # assuming each paragraph is two sentences long\n",
    "\n",
    "\n",
    "\n",
    "print(get_topic_sentences(essay))\"\"\"\n"
   ]
  },
  {
   "cell_type": "code",
   "execution_count": null,
   "metadata": {},
   "outputs": [],
   "source": []
  }
 ],
 "metadata": {
  "kernelspec": {
   "display_name": "base",
   "language": "python",
   "name": "python3"
  },
  "language_info": {
   "codemirror_mode": {
    "name": "ipython",
    "version": 3
   },
   "file_extension": ".py",
   "mimetype": "text/x-python",
   "name": "python",
   "nbconvert_exporter": "python",
   "pygments_lexer": "ipython3",
   "version": "3.9.12"
  },
  "orig_nbformat": 4
 },
 "nbformat": 4,
 "nbformat_minor": 2
}
