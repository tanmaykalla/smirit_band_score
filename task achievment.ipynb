{
 "cells": [
  {
   "cell_type": "code",
   "execution_count": 2,
   "metadata": {},
   "outputs": [
    {
     "name": "stdout",
     "output_type": "stream",
     "text": [
      "Requirement already satisfied: sumy in c:\\users\\tanma\\anaconda3\\lib\\site-packages (0.11.0)\n",
      "Requirement already satisfied: requests>=2.7.0 in c:\\users\\tanma\\anaconda3\\lib\\site-packages (from sumy) (2.27.1)\n",
      "Requirement already satisfied: pycountry>=18.2.23 in c:\\users\\tanma\\anaconda3\\lib\\site-packages (from sumy) (22.3.5)\n",
      "Requirement already satisfied: docopt<0.7,>=0.6.1 in c:\\users\\tanma\\anaconda3\\lib\\site-packages (from sumy) (0.6.2)\n",
      "Requirement already satisfied: nltk>=3.0.2 in c:\\users\\tanma\\anaconda3\\lib\\site-packages (from sumy) (3.7)\n",
      "Requirement already satisfied: breadability>=0.1.20 in c:\\users\\tanma\\anaconda3\\lib\\site-packages (from sumy) (0.1.20)\n",
      "Requirement already satisfied: lxml>=2.0 in c:\\users\\tanma\\anaconda3\\lib\\site-packages (from breadability>=0.1.20->sumy) (4.8.0)\n",
      "Requirement already satisfied: chardet in c:\\users\\tanma\\anaconda3\\lib\\site-packages (from breadability>=0.1.20->sumy) (4.0.0)\n",
      "Requirement already satisfied: tqdm in c:\\users\\tanma\\anaconda3\\lib\\site-packages (from nltk>=3.0.2->sumy) (4.64.0)\n",
      "Requirement already satisfied: regex>=2021.8.3 in c:\\users\\tanma\\anaconda3\\lib\\site-packages (from nltk>=3.0.2->sumy) (2022.3.15)\n",
      "Requirement already satisfied: joblib in c:\\users\\tanma\\anaconda3\\lib\\site-packages (from nltk>=3.0.2->sumy) (1.1.0)\n",
      "Requirement already satisfied: click in c:\\users\\tanma\\anaconda3\\lib\\site-packages (from nltk>=3.0.2->sumy) (8.0.4)\n",
      "Requirement already satisfied: setuptools in c:\\users\\tanma\\anaconda3\\lib\\site-packages (from pycountry>=18.2.23->sumy) (61.2.0)\n",
      "Requirement already satisfied: urllib3<1.27,>=1.21.1 in c:\\users\\tanma\\anaconda3\\lib\\site-packages (from requests>=2.7.0->sumy) (1.26.9)\n",
      "Requirement already satisfied: idna<4,>=2.5 in c:\\users\\tanma\\anaconda3\\lib\\site-packages (from requests>=2.7.0->sumy) (3.3)\n",
      "Requirement already satisfied: charset-normalizer~=2.0.0 in c:\\users\\tanma\\anaconda3\\lib\\site-packages (from requests>=2.7.0->sumy) (2.0.4)\n",
      "Requirement already satisfied: certifi>=2017.4.17 in c:\\users\\tanma\\anaconda3\\lib\\site-packages (from requests>=2.7.0->sumy) (2022.12.7)\n",
      "Requirement already satisfied: colorama in c:\\users\\tanma\\anaconda3\\lib\\site-packages (from click->nltk>=3.0.2->sumy) (0.4.6)\n",
      "Note: you may need to restart the kernel to use updated packages.\n"
     ]
    }
   ],
   "source": [
    "pip install sumy\n"
   ]
  },
  {
   "cell_type": "code",
   "execution_count": 3,
   "metadata": {},
   "outputs": [
    {
     "name": "stderr",
     "output_type": "stream",
     "text": [
      "[nltk_data] Downloading package punkt to\n",
      "[nltk_data]     C:\\Users\\tanma\\AppData\\Roaming\\nltk_data...\n",
      "[nltk_data]   Package punkt is already up-to-date!\n"
     ]
    },
    {
     "data": {
      "text/plain": [
       "True"
      ]
     },
     "execution_count": 3,
     "metadata": {},
     "output_type": "execute_result"
    }
   ],
   "source": [
    "import nltk\n",
    "nltk.download('punkt')\n"
   ]
  },
  {
   "cell_type": "code",
   "execution_count": 4,
   "metadata": {},
   "outputs": [
    {
     "name": "stdout",
     "output_type": "stream",
     "text": [
      "Requirement already satisfied: sentence-transformers in c:\\users\\tanma\\anaconda3\\lib\\site-packages (2.2.2)\n",
      "Requirement already satisfied: torchvision in c:\\users\\tanma\\anaconda3\\lib\\site-packages (from sentence-transformers) (0.15.0)\n",
      "Requirement already satisfied: tqdm in c:\\users\\tanma\\anaconda3\\lib\\site-packages (from sentence-transformers) (4.64.0)\n",
      "Requirement already satisfied: scikit-learn in c:\\users\\tanma\\anaconda3\\lib\\site-packages (from sentence-transformers) (1.0.2)\n",
      "Requirement already satisfied: scipy in c:\\users\\tanma\\anaconda3\\lib\\site-packages (from sentence-transformers) (1.7.3)\n",
      "Requirement already satisfied: transformers<5.0.0,>=4.6.0 in c:\\users\\tanma\\anaconda3\\lib\\site-packages (from sentence-transformers) (4.24.0)\n",
      "Requirement already satisfied: numpy in c:\\users\\tanma\\anaconda3\\lib\\site-packages (from sentence-transformers) (1.22.4)\n",
      "Requirement already satisfied: sentencepiece in c:\\users\\tanma\\anaconda3\\lib\\site-packages (from sentence-transformers) (0.1.98)\n",
      "Requirement already satisfied: huggingface-hub>=0.4.0 in c:\\users\\tanma\\anaconda3\\lib\\site-packages (from sentence-transformers) (0.14.1)\n",
      "Requirement already satisfied: torch>=1.6.0 in c:\\users\\tanma\\anaconda3\\lib\\site-packages (from sentence-transformers) (2.0.0)\n",
      "Requirement already satisfied: nltk in c:\\users\\tanma\\anaconda3\\lib\\site-packages (from sentence-transformers) (3.7)\n",
      "Requirement already satisfied: filelock in c:\\users\\tanma\\anaconda3\\lib\\site-packages (from huggingface-hub>=0.4.0->sentence-transformers) (3.12.0)\n",
      "Requirement already satisfied: packaging>=20.9 in c:\\users\\tanma\\anaconda3\\lib\\site-packages (from huggingface-hub>=0.4.0->sentence-transformers) (21.3)\n",
      "Requirement already satisfied: requests in c:\\users\\tanma\\anaconda3\\lib\\site-packages (from huggingface-hub>=0.4.0->sentence-transformers) (2.27.1)\n",
      "Requirement already satisfied: typing-extensions>=3.7.4.3 in c:\\users\\tanma\\anaconda3\\lib\\site-packages (from huggingface-hub>=0.4.0->sentence-transformers) (4.5.0)\n",
      "Requirement already satisfied: pyyaml>=5.1 in c:\\users\\tanma\\anaconda3\\lib\\site-packages (from huggingface-hub>=0.4.0->sentence-transformers) (6.0)\n",
      "Requirement already satisfied: fsspec in c:\\users\\tanma\\anaconda3\\lib\\site-packages (from huggingface-hub>=0.4.0->sentence-transformers) (2022.2.0)\n",
      "Requirement already satisfied: pyparsing!=3.0.5,>=2.0.2 in c:\\users\\tanma\\anaconda3\\lib\\site-packages (from packaging>=20.9->huggingface-hub>=0.4.0->sentence-transformers) (3.0.4)\n",
      "Requirement already satisfied: sympy in c:\\users\\tanma\\anaconda3\\lib\\site-packages (from torch>=1.6.0->sentence-transformers) (1.10.1)\n",
      "Requirement already satisfied: networkx in c:\\users\\tanma\\anaconda3\\lib\\site-packages (from torch>=1.6.0->sentence-transformers) (2.7.1)\n",
      "Requirement already satisfied: jinja2 in c:\\users\\tanma\\anaconda3\\lib\\site-packages (from torch>=1.6.0->sentence-transformers) (2.11.3)\n",
      "Requirement already satisfied: colorama in c:\\users\\tanma\\anaconda3\\lib\\site-packages (from tqdm->sentence-transformers) (0.4.6)\n",
      "Requirement already satisfied: tokenizers!=0.11.3,<0.14,>=0.11.1 in c:\\users\\tanma\\anaconda3\\lib\\site-packages (from transformers<5.0.0,>=4.6.0->sentence-transformers) (0.11.4)\n",
      "Requirement already satisfied: regex!=2019.12.17 in c:\\users\\tanma\\anaconda3\\lib\\site-packages (from transformers<5.0.0,>=4.6.0->sentence-transformers) (2022.3.15)\n",
      "Requirement already satisfied: MarkupSafe>=0.23 in c:\\users\\tanma\\anaconda3\\lib\\site-packages (from jinja2->torch>=1.6.0->sentence-transformers) (2.0.1)\n",
      "Requirement already satisfied: joblib in c:\\users\\tanma\\anaconda3\\lib\\site-packages (from nltk->sentence-transformers) (1.1.0)\n",
      "Requirement already satisfied: click in c:\\users\\tanma\\anaconda3\\lib\\site-packages (from nltk->sentence-transformers) (8.0.4)\n",
      "Requirement already satisfied: idna<4,>=2.5 in c:\\users\\tanma\\anaconda3\\lib\\site-packages (from requests->huggingface-hub>=0.4.0->sentence-transformers) (3.3)\n",
      "Requirement already satisfied: certifi>=2017.4.17 in c:\\users\\tanma\\anaconda3\\lib\\site-packages (from requests->huggingface-hub>=0.4.0->sentence-transformers) (2022.12.7)\n",
      "Requirement already satisfied: charset-normalizer~=2.0.0 in c:\\users\\tanma\\anaconda3\\lib\\site-packages (from requests->huggingface-hub>=0.4.0->sentence-transformers) (2.0.4)\n",
      "Requirement already satisfied: urllib3<1.27,>=1.21.1 in c:\\users\\tanma\\anaconda3\\lib\\site-packages (from requests->huggingface-hub>=0.4.0->sentence-transformers) (1.26.9)\n",
      "Requirement already satisfied: threadpoolctl>=2.0.0 in c:\\users\\tanma\\anaconda3\\lib\\site-packages (from scikit-learn->sentence-transformers) (2.2.0)\n",
      "Requirement already satisfied: mpmath>=0.19 in c:\\users\\tanma\\anaconda3\\lib\\site-packages (from sympy->torch>=1.6.0->sentence-transformers) (1.2.1)\n",
      "Requirement already satisfied: pillow!=8.3.*,>=5.3.0 in c:\\users\\tanma\\anaconda3\\lib\\site-packages (from torchvision->sentence-transformers) (9.0.1)\n",
      "Note: you may need to restart the kernel to use updated packages.\n"
     ]
    }
   ],
   "source": [
    "pip install sentence-transformers\n"
   ]
  },
  {
   "cell_type": "code",
   "execution_count": 5,
   "metadata": {},
   "outputs": [],
   "source": [
    "essay=\"\"\"It is not doubtful that with the introduction of computers, the process of delivering education has changed to a much greater extent. Though these digital devices have expedited the availability of data, they are not substitutes of learning process that happens by human interaction. In my opinion, it can be expected that role of teachers may change from classroom teacher to an online teacher, but complete disappearance of classroom sessions is not possible.\n",
    "To commence with, acquisition of knowledge with computers involves fun and learning at the same time. Merely touching these digital devices is an activity full of enjoyment for a child. Apart from this, software interactivity and relaxing attitude while learning from computer contribute to grasping knowledge in an effective way. For example, the availability of digital books and other software tools used at higher educational level provides the student ever accessible source of detailed information that otherwise was impossible in the past.\n",
    "On the other hand, though the increased complexity of intelligent software embedded in the digital material brings high quality education to the students, the need of human interactive sessions would always be present at least in the foreseeable future. For example, only a human teacher can help a student overcoming his shortcomings with individualised attention.  Therefore, expertise of a teacher in explaining the complexity and clarifying doubt can hardly be mimicked by the computer, no matter how much sophisticated the software is.\n",
    "To conclude with, according to me, teachers who are the highly respected professionals in the society will continue to play the most important role in shaping the career as well as the character of the students so that they not only succeed in their life but become better human beings too.\"\"\""
   ]
  },
  {
   "cell_type": "code",
   "execution_count": 14,
   "metadata": {},
   "outputs": [
    {
     "name": "stdout",
     "output_type": "stream",
     "text": [
      "Though these digital devices have expedited the availability of data, they are not substitutes of learning process that happens by human interaction. In my opinion, it can be expected that role of teachers may change from classroom teacher to an online teacher, but complete disappearance of classroom sessions is not possible. To commence with, acquisition of knowledge with computers involves fun and learning at the same time. Merely touching these digital devices is an activity full of enjoyment for a child.\n"
     ]
    }
   ],
   "source": [
    "from sumy.parsers.plaintext import PlaintextParser\n",
    "from sumy.nlp.tokenizers import Tokenizer\n",
    "from sumy.summarizers.lex_rank import LexRankSummarizer\n",
    "\n",
    "# This is the text you want to summarize\n",
    "text = \"\"\"In recent years, the question of whether animals should be kept in zoos has become increasingly controversial. In my opinion, there is nothing cruel about animals being kept in captivity. In fact, there are a number of advantages which I will outline below.\n",
    "\n",
    "First of all, I would argue that most animals are well looked-after because there are strict regulations in place relating to animal welfare. Zoos are regularly inspected and the animals are cared for by experts and given food, shelter and medicine if they fall ill, so there is little evidence to suggest that animals are suffering.\n",
    "\n",
    "A second reason in favour of zoos is that many animals are being hunted to extinction in the wild and others are dying out due to loss of habitat. Successful breeding and conservation programmes can ensure the survival of endangered animals such as pandas and polar bears so that they are protected for generations to come.\n",
    "\n",
    "Finally, there are educational reasons for keeping animals in zoos. Children are able to see animals from all over the world up close and this helps encourage an interest in wildlife and a desire to protect animals in the future.\n",
    "\n",
    "In conclusion, I believe that keeping animals in zoos is no more cruel than keeping them at home. The only important thing is to care for them properly.\n",
    "\"\"\"\n",
    "\n",
    "# For Sumy, you need to make a parser from your text\n",
    "parser = PlaintextParser.from_string(essay, Tokenizer(\"english\"))\n",
    "\n",
    "# Then you choose a summarizer\n",
    "summarizer = LexRankSummarizer()\n",
    "\n",
    "# Summarize the text with 2 sentences\n",
    "summary = summarizer(parser.document, 4)\n",
    "\n",
    "#for sentence in summary:\n",
    " #   print(sentence)\n",
    "my_sentence = \" \".join(str(sentence) for sentence in summary)\n",
    "print(my_sentence)"
   ]
  },
  {
   "cell_type": "code",
   "execution_count": 7,
   "metadata": {},
   "outputs": [],
   "source": [
    "#question=\"It is important for people to take risks, both in their professional lives and  their personal lives. Do you think the advantages of taking risks outweigh the disadvantages?\"\n",
    "#q2=\"Some people say that Ebooks and modern technology will totally replace traditional newspaper and magazines to what extent do you agree or disagree.\"\n",
    "q3=\"With the increased use of computers, education is being delivered online without teachers. It is likely that there would be no role of teachers in providing education in the future.Do you agree with this view?\""
   ]
  },
  {
   "cell_type": "code",
   "execution_count": 17,
   "metadata": {},
   "outputs": [
    {
     "name": "stdout",
     "output_type": "stream",
     "text": [
      "[[0.6835572]]\n"
     ]
    }
   ],
   "source": [
    "from sentence_transformers import SentenceTransformer\n",
    "from sklearn.metrics.pairwise import cosine_similarity\n",
    "\n",
    "# Load the model\n",
    "model = SentenceTransformer('all-MiniLM-L6-v2')\n",
    "\n",
    "# Sentences\n",
    "##sentence1 = \"The smart phone connected with internet opens up the large possibilities, from creating new friends to communicating with them over social media.Moreover, multiplayer online gaming improves their multitasking ability and it also gives them a competitive environment Overall, I agree that overusage of smartphones on regular basis is harmful for them, but if given proper guidance, mobile phones can help them in learning some life-long skills.\"\n",
    "sentence1=my_sentence\n",
    "sentence2 = q3\n",
    "# Obtain embeddings\n",
    "embeddings1 = model.encode([sentence1])\n",
    "embeddings2 = model.encode([sentence2])\n",
    "\n",
    "# Compute and print cosine similarity\n",
    "similarity = cosine_similarity(embeddings1, embeddings2)\n",
    "print(similarity)\n",
    "\n",
    "\n"
   ]
  },
  {
   "cell_type": "code",
   "execution_count": 22,
   "metadata": {},
   "outputs": [
    {
     "data": {
      "text/plain": [
       "7"
      ]
     },
     "execution_count": 22,
     "metadata": {},
     "output_type": "execute_result"
    }
   ],
   "source": [
    "def task_score(t):\n",
    "    return similarity[0][0]\n",
    "\n",
    "round(10*task_score(similarity))"
   ]
  }
 ],
 "metadata": {
  "kernelspec": {
   "display_name": "base",
   "language": "python",
   "name": "python3"
  },
  "language_info": {
   "codemirror_mode": {
    "name": "ipython",
    "version": 3
   },
   "file_extension": ".py",
   "mimetype": "text/x-python",
   "name": "python",
   "nbconvert_exporter": "python",
   "pygments_lexer": "ipython3",
   "version": "3.9.12"
  },
  "orig_nbformat": 4
 },
 "nbformat": 4,
 "nbformat_minor": 2
}
